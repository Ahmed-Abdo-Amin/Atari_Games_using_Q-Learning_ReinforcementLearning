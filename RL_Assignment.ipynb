{
  "nbformat": 4,
  "nbformat_minor": 0,
  "metadata": {
    "colab": {
      "name": "RL-Assignment.ipynb",
      "provenance": [],
      "collapsed_sections": [
        "SQWwLwjSo_zl",
        "RDNQ8jQipGGU",
        "M6qSRrsazG0o",
        "p5tY-sFm0be5",
        "yczt1c4JqZHl",
        "cK9YFo2a__Mh",
        "FBoN3tywLnhs",
        "anA3ppEXLutL",
        "zuZ1Z2FZF9Fw",
        "-PxnkNFz1lSi",
        "ukMrYPz_ONMb"
      ]
    },
    "kernelspec": {
      "name": "python3",
      "display_name": "Python 3"
    },
    "language_info": {
      "name": "python"
    },
    "accelerator": "GPU"
  },
  "cells": [
    {
      "cell_type": "markdown",
      "source": [
        "####**Name**:  Ahmed Abdo Amin Abdo\n",
        "####**Student number**: 300327306"
      ],
      "metadata": {
        "id": "Gh8rMuigOj7S"
      }
    },
    {
      "cell_type": "markdown",
      "source": [
        "##Python Development"
      ],
      "metadata": {
        "id": "SQWwLwjSo_zl"
      }
    },
    {
      "cell_type": "code",
      "execution_count": null,
      "metadata": {
        "colab": {
          "base_uri": "https://localhost:8080/"
        },
        "id": "uCQ1eVmVo5K8",
        "outputId": "d8304ba1-84f8-4cc3-e5fa-fe769cd4d62d"
      },
      "outputs": [
        {
          "output_type": "stream",
          "name": "stdout",
          "text": [
            "Looking in indexes: https://pypi.org/simple, https://us-python.pkg.dev/colab-wheels/public/simple/\n",
            "Requirement already satisfied: cmake in /usr/local/lib/python3.7/dist-packages (3.22.4)\n",
            "Requirement already satisfied: gym in /usr/local/lib/python3.7/dist-packages (0.21.0)\n",
            "Requirement already satisfied: scipy in /usr/local/lib/python3.7/dist-packages (1.4.1)\n",
            "Requirement already satisfied: importlib-metadata>=4.8.1 in /usr/local/lib/python3.7/dist-packages (from gym) (4.11.4)\n",
            "Requirement already satisfied: numpy>=1.18.0 in /usr/local/lib/python3.7/dist-packages (from gym) (1.21.6)\n",
            "Requirement already satisfied: cloudpickle>=1.2.0 in /usr/local/lib/python3.7/dist-packages (from gym) (1.3.0)\n",
            "Requirement already satisfied: zipp>=0.5 in /usr/local/lib/python3.7/dist-packages (from importlib-metadata>=4.8.1->gym) (3.8.0)\n",
            "Requirement already satisfied: typing-extensions>=3.6.4 in /usr/local/lib/python3.7/dist-packages (from importlib-metadata>=4.8.1->gym) (4.2.0)\n"
          ]
        }
      ],
      "source": [
        "!pip install cmake 'gym' scipy"
      ]
    },
    {
      "cell_type": "markdown",
      "source": [
        "## Import libraries"
      ],
      "metadata": {
        "id": "RDNQ8jQipGGU"
      }
    },
    {
      "cell_type": "code",
      "source": [
        "import gym\n",
        "from numpy import array\n",
        "from math import inf\n",
        "from numpy.linalg import norm\n",
        "from IPython.display import clear_output\n",
        "from time import sleep\n",
        "import numpy as np\n",
        "import random\n",
        "from time import sleep\n",
        "import pandas as pd"
      ],
      "metadata": {
        "id": "ZKsQGWPZpVOW"
      },
      "execution_count": null,
      "outputs": []
    },
    {
      "cell_type": "markdown",
      "source": [
        "## Setting the state of the environment"
      ],
      "metadata": {
        "id": "M6qSRrsazG0o"
      }
    },
    {
      "cell_type": "code",
      "source": [
        "def setState(env, agentRow =3 , agentColumn =1, sourceIndex =2, destination = 0):\n",
        "  state = env.encode(agentRow, agentColumn, sourceIndex, destination) # (taxi row, taxi column, passenger index, destination\n",
        "  return state"
      ],
      "metadata": {
        "id": "79rF8ndfwFd6"
      },
      "execution_count": null,
      "outputs": []
    },
    {
      "cell_type": "markdown",
      "source": [
        "## simulating the steps for solving the environment "
      ],
      "metadata": {
        "id": "p5tY-sFm0be5"
      }
    },
    {
      "cell_type": "code",
      "source": [
        "def print_frames(frames):\n",
        "  for i, frame in enumerate(frames):\n",
        "    clear_output(wait = True)\n",
        "    print(frame['frame'])\n",
        "    print(f'Timestep: {i+1}')\n",
        "    print(f\"State: {frame['state']}\")\n",
        "    print(f\"Action: {frame['action']}\")\n",
        "    print(f\"Reward: {frame['reward']}\")\n",
        "    sleep(.1)"
      ],
      "metadata": {
        "id": "jPOyRwff0uyv"
      },
      "execution_count": null,
      "outputs": []
    },
    {
      "cell_type": "markdown",
      "source": [
        "## Setting brute-force function to Solve the environment without Reinforcement Learning"
      ],
      "metadata": {
        "id": "yczt1c4JqZHl"
      }
    },
    {
      "cell_type": "code",
      "source": [
        "def LR_bruteforce(env, state, maxPunishScore):\n",
        "  env.render()\n",
        "  #print(\"State:\", state)\n",
        "  env.s = state # set environment to illustration's state\n",
        "  epochs = 0\n",
        "  penalties, reward =0, 0\n",
        "  frames = [] # for animation\n",
        "  done = False\n",
        "  while not done:\n",
        "    action = env.action_space.sample()\n",
        "    state, reward, done, info = env.step(action)\n",
        "    if reward == maxPunishScore:\n",
        "       penalties += 1\n",
        "    # Put each rendered frame into dict for animation\n",
        "    frames.append({\n",
        "          'frame': env.render(mode = 'ansi'),\n",
        "          'state': state,\n",
        "          'action': action,\n",
        "          'reward': reward\n",
        "          })\n",
        "    epochs +=1\n",
        "  print(f\"TimeSteps taken: {format(epochs)}\")\n",
        "  print(f\"Penaltes incurred: {format(penalties)}\")\n",
        "  return frames"
      ],
      "metadata": {
        "id": "lVT3pWqtql-W"
      },
      "execution_count": null,
      "outputs": []
    },
    {
      "cell_type": "markdown",
      "source": [
        "## Setting Q-learning function to Solve the environment with Reinforcement Learning"
      ],
      "metadata": {
        "id": "cK9YFo2a__Mh"
      }
    },
    {
      "cell_type": "markdown",
      "source": [
        "### Training the Agent"
      ],
      "metadata": {
        "id": "FBoN3tywLnhs"
      }
    },
    {
      "cell_type": "code",
      "source": [
        "def QlearningTrain(env, Talpha=0.1, Tgamma=0.6, Tepsilon=0.1):\n",
        "  q_table = np.zeros([env.observation_space.n, env.action_space.n])\n",
        "  # Hyperparameters\n",
        "  ## the learning rate\n",
        "  alpha = Talpha\n",
        "  ## determines how much importance we want to give to future rewards.\n",
        "  gamma = Tgamma\n",
        "  ## trials increase, epsilon should decrease.\n",
        "  epsilon = Tepsilon\n",
        "\n",
        "  # for plotting metrics\n",
        "  all_epochs = []\n",
        "  all_penalties = []\n",
        "\n",
        "  for i in range(1, 100001):\n",
        "    state = env.reset()\n",
        "    epochs, penalties, reward = 0, 0, 0\n",
        "    done = False\n",
        "\n",
        "    while not done:\n",
        "      if random.uniform(0, 1) < epsilon:\n",
        "        action = env.action_space.sample() # Explore action space\n",
        "      else:\n",
        "        action = np.argmax(q_table[state]) # Exploit learned values\n",
        "\n",
        "      next_state, reward, done, info = env.step(action)\n",
        "      old_value = q_table[state, action]\n",
        "      next_max = np.max(q_table[next_state])\n",
        "      new_value = (1 - alpha) * old_value + alpha * (reward + gamma * next_max)\n",
        "      q_table[state, action] = new_value\n",
        "      state = next_state\n",
        "\n",
        "      if reward == -10:\n",
        "        penalties +=1\n",
        "\n",
        "      epochs +=1\n",
        "      if i % 100 == 0:\n",
        "        clear_output(wait = True)\n",
        "        print(f\"Episode: {i}\")\n",
        "  \n",
        "  print(\"Training finished. \\n\")\n",
        "  return q_table"
      ],
      "metadata": {
        "id": "japVZcW3ABpw"
      },
      "execution_count": null,
      "outputs": []
    },
    {
      "cell_type": "markdown",
      "source": [
        "###Evaluating the agent"
      ],
      "metadata": {
        "id": "anA3ppEXLutL"
      }
    },
    {
      "cell_type": "code",
      "source": [
        "def QlearningEvaluating(env, q_table, n= 100):\n",
        "  total_epochs, total_penalties = 0, 0\n",
        "  episodes = n\n",
        "\n",
        "  for _ in range(episodes):\n",
        "      state = env.reset()\n",
        "      epochs, penalties, reward = 0, 0, 0\n",
        "      \n",
        "      done = False\n",
        "      \n",
        "      while not done:\n",
        "          action = np.argmax(q_table[state])\n",
        "          state, reward, done, info = env.step(action)\n",
        "\n",
        "          if reward == -10:\n",
        "              penalties += 1\n",
        "\n",
        "          epochs += 1\n",
        "\n",
        "      total_penalties += penalties\n",
        "      total_epochs += epochs\n",
        "  return (total_epochs / episodes)"
      ],
      "metadata": {
        "id": "YsL9RoJ2Th6y"
      },
      "execution_count": null,
      "outputs": []
    },
    {
      "cell_type": "markdown",
      "source": [
        ""
      ],
      "metadata": {
        "id": "zP2z536vF6U4"
      }
    },
    {
      "cell_type": "markdown",
      "source": [
        "##Showing some environments"
      ],
      "metadata": {
        "id": "zuZ1Z2FZF9Fw"
      }
    },
    {
      "cell_type": "code",
      "source": [
        "#from gym import envs\n",
        "#env_names = [spec.id for spec in envs.registry.all()]\n",
        "lstEnvs = [\"Taxi-v3\", \"CliffWalking-v0\", \"FrozenLake-v1\"]\n",
        "for name in sorted(lstEnvs):\n",
        "  print(name)\n",
        "\n"
      ],
      "metadata": {
        "colab": {
          "base_uri": "https://localhost:8080/"
        },
        "id": "cxGB70shGIjX",
        "outputId": "9dffdba7-c093-4f2f-96b9-01945e2f5922"
      },
      "execution_count": null,
      "outputs": [
        {
          "output_type": "stream",
          "name": "stdout",
          "text": [
            "CliffWalking-v0\n",
            "FrozenLake-v1\n",
            "Taxi-v3\n"
          ]
        }
      ]
    },
    {
      "cell_type": "markdown",
      "source": [
        "## Solving the environment without Reinforcement Learning (brute-force)"
      ],
      "metadata": {
        "id": "-PxnkNFz1lSi"
      }
    },
    {
      "cell_type": "code",
      "source": [
        "# get he environment\n",
        "env = gym.make(\"Taxi-v3\")\n",
        "# setting the state of the environment\n",
        "state = setState(env, 3, 1, 2, 0)\n",
        "# Using  brute-force function to Solve the environment \n",
        "frames = LR_bruteforce(env, state, -10)\n",
        "# simulating the steps of brute-force for solving the environment\n",
        "print_frames(frames)"
      ],
      "metadata": {
        "colab": {
          "base_uri": "https://localhost:8080/"
        },
        "id": "3uykN-28wPfJ",
        "outputId": "aeb950d6-2330-486d-d077-0d40880e672e"
      },
      "execution_count": null,
      "outputs": [
        {
          "output_type": "stream",
          "name": "stdout",
          "text": [
            "+---------+\n",
            "|\u001b[35m\u001b[34;1m\u001b[43mR\u001b[0m\u001b[0m\u001b[0m: | : :G|\n",
            "| : | : : |\n",
            "| : : : : |\n",
            "| | : | : |\n",
            "|Y| : |B: |\n",
            "+---------+\n",
            "  (Dropoff)\n",
            "\n",
            "Timestep: 4157\n",
            "State: 0\n",
            "Action: 5\n",
            "Reward: 20\n"
          ]
        }
      ]
    },
    {
      "cell_type": "markdown",
      "source": [
        "##Solving the environment with Q-learning (Reinforcement Learning)"
      ],
      "metadata": {
        "id": "ukMrYPz_ONMb"
      }
    },
    {
      "cell_type": "code",
      "source": [
        "# the number of range in alpha & gamma & epsilon\n",
        "n = 2\n",
        "alpha =list(np.linspace(0.1,0.2,n))\n",
        "gamma = list(np.linspace(0.6,0.3,n))\n",
        "epsilon = list(np.linspace(0.1,0.2,n))\n",
        "\n",
        "for Ta in alpha:\n",
        "  for Tg in gamma:\n",
        "    for Te in epsilon:\n",
        "      print(f'{Ta}  {Tg} {Te}')"
      ],
      "metadata": {
        "colab": {
          "base_uri": "https://localhost:8080/"
        },
        "id": "ayTMbB4kt05n",
        "outputId": "7f124763-81b6-4d5f-8376-8b5390853790"
      },
      "execution_count": null,
      "outputs": [
        {
          "output_type": "stream",
          "name": "stdout",
          "text": [
            "0.1  0.6 0.1\n",
            "0.1  0.6 0.2\n",
            "0.1  0.3 0.1\n",
            "0.1  0.3 0.2\n",
            "0.2  0.6 0.1\n",
            "0.2  0.6 0.2\n",
            "0.2  0.3 0.1\n",
            "0.2  0.3 0.2\n"
          ]
        }
      ]
    },
    {
      "cell_type": "code",
      "source": [
        "# Setting Lists for All probabilities of alpha, gamma, epsilon\n",
        "alphaLst = []\n",
        "gammaLst = []\n",
        "epsilonLst = []\n",
        "Average_timesteps_Lst = []\n",
        "\n",
        "env = gym.make(\"Taxi-v3\")\n",
        "\n",
        "for Ta in alpha:\n",
        "  for Tg in gamma:\n",
        "    for Te in epsilon:\n",
        "      q_tabletrain = QlearningTrain(env, Ta, Tg, Te)\n",
        "      Average_timesteps = QlearningEvaluating(env, q_tabletrain, 100)\n",
        "      alphaLst.append(Ta)\n",
        "      gammaLst.append(Tg)\n",
        "      epsilonLst.append(Te)\n",
        "      Average_timesteps_Lst.append(Average_timesteps)\n",
        "\n",
        "df = pd.DataFrame()\n",
        "df[\"Alpha\"] = alphaLst\n",
        "df[\"Gamma\"] = gammaLst\n",
        "df[\"epsilon\"] = epsilonLst\n",
        "df[\"Average timesteps per episode\"] = Average_timesteps_Lst\n",
        "df\n"
      ],
      "metadata": {
        "colab": {
          "base_uri": "https://localhost:8080/",
          "height": 356
        },
        "id": "7qOzivKe9qsB",
        "outputId": "46830241-4bd1-482f-c4b9-ae27c889956e"
      },
      "execution_count": null,
      "outputs": [
        {
          "output_type": "stream",
          "name": "stdout",
          "text": [
            "Episode: 100000\n",
            "Training finished. \n",
            "\n"
          ]
        },
        {
          "output_type": "execute_result",
          "data": {
            "text/plain": [
              "   Alpha  Gamma  epsilon  Average timesteps per episode\n",
              "0    0.1    0.6      0.1                          12.64\n",
              "1    0.1    0.6      0.2                          12.91\n",
              "2    0.1    0.3      0.1                          12.91\n",
              "3    0.1    0.3      0.2                          13.30\n",
              "4    0.2    0.6      0.1                          12.26\n",
              "5    0.2    0.6      0.2                          12.85\n",
              "6    0.2    0.3      0.1                          12.95\n",
              "7    0.2    0.3      0.2                          13.36"
            ],
            "text/html": [
              "\n",
              "  <div id=\"df-12dbf366-d753-42c3-85c1-58d5a5466aa3\">\n",
              "    <div class=\"colab-df-container\">\n",
              "      <div>\n",
              "<style scoped>\n",
              "    .dataframe tbody tr th:only-of-type {\n",
              "        vertical-align: middle;\n",
              "    }\n",
              "\n",
              "    .dataframe tbody tr th {\n",
              "        vertical-align: top;\n",
              "    }\n",
              "\n",
              "    .dataframe thead th {\n",
              "        text-align: right;\n",
              "    }\n",
              "</style>\n",
              "<table border=\"1\" class=\"dataframe\">\n",
              "  <thead>\n",
              "    <tr style=\"text-align: right;\">\n",
              "      <th></th>\n",
              "      <th>Alpha</th>\n",
              "      <th>Gamma</th>\n",
              "      <th>epsilon</th>\n",
              "      <th>Average timesteps per episode</th>\n",
              "    </tr>\n",
              "  </thead>\n",
              "  <tbody>\n",
              "    <tr>\n",
              "      <th>0</th>\n",
              "      <td>0.1</td>\n",
              "      <td>0.6</td>\n",
              "      <td>0.1</td>\n",
              "      <td>12.64</td>\n",
              "    </tr>\n",
              "    <tr>\n",
              "      <th>1</th>\n",
              "      <td>0.1</td>\n",
              "      <td>0.6</td>\n",
              "      <td>0.2</td>\n",
              "      <td>12.91</td>\n",
              "    </tr>\n",
              "    <tr>\n",
              "      <th>2</th>\n",
              "      <td>0.1</td>\n",
              "      <td>0.3</td>\n",
              "      <td>0.1</td>\n",
              "      <td>12.91</td>\n",
              "    </tr>\n",
              "    <tr>\n",
              "      <th>3</th>\n",
              "      <td>0.1</td>\n",
              "      <td>0.3</td>\n",
              "      <td>0.2</td>\n",
              "      <td>13.30</td>\n",
              "    </tr>\n",
              "    <tr>\n",
              "      <th>4</th>\n",
              "      <td>0.2</td>\n",
              "      <td>0.6</td>\n",
              "      <td>0.1</td>\n",
              "      <td>12.26</td>\n",
              "    </tr>\n",
              "    <tr>\n",
              "      <th>5</th>\n",
              "      <td>0.2</td>\n",
              "      <td>0.6</td>\n",
              "      <td>0.2</td>\n",
              "      <td>12.85</td>\n",
              "    </tr>\n",
              "    <tr>\n",
              "      <th>6</th>\n",
              "      <td>0.2</td>\n",
              "      <td>0.3</td>\n",
              "      <td>0.1</td>\n",
              "      <td>12.95</td>\n",
              "    </tr>\n",
              "    <tr>\n",
              "      <th>7</th>\n",
              "      <td>0.2</td>\n",
              "      <td>0.3</td>\n",
              "      <td>0.2</td>\n",
              "      <td>13.36</td>\n",
              "    </tr>\n",
              "  </tbody>\n",
              "</table>\n",
              "</div>\n",
              "      <button class=\"colab-df-convert\" onclick=\"convertToInteractive('df-12dbf366-d753-42c3-85c1-58d5a5466aa3')\"\n",
              "              title=\"Convert this dataframe to an interactive table.\"\n",
              "              style=\"display:none;\">\n",
              "        \n",
              "  <svg xmlns=\"http://www.w3.org/2000/svg\" height=\"24px\"viewBox=\"0 0 24 24\"\n",
              "       width=\"24px\">\n",
              "    <path d=\"M0 0h24v24H0V0z\" fill=\"none\"/>\n",
              "    <path d=\"M18.56 5.44l.94 2.06.94-2.06 2.06-.94-2.06-.94-.94-2.06-.94 2.06-2.06.94zm-11 1L8.5 8.5l.94-2.06 2.06-.94-2.06-.94L8.5 2.5l-.94 2.06-2.06.94zm10 10l.94 2.06.94-2.06 2.06-.94-2.06-.94-.94-2.06-.94 2.06-2.06.94z\"/><path d=\"M17.41 7.96l-1.37-1.37c-.4-.4-.92-.59-1.43-.59-.52 0-1.04.2-1.43.59L10.3 9.45l-7.72 7.72c-.78.78-.78 2.05 0 2.83L4 21.41c.39.39.9.59 1.41.59.51 0 1.02-.2 1.41-.59l7.78-7.78 2.81-2.81c.8-.78.8-2.07 0-2.86zM5.41 20L4 18.59l7.72-7.72 1.47 1.35L5.41 20z\"/>\n",
              "  </svg>\n",
              "      </button>\n",
              "      \n",
              "  <style>\n",
              "    .colab-df-container {\n",
              "      display:flex;\n",
              "      flex-wrap:wrap;\n",
              "      gap: 12px;\n",
              "    }\n",
              "\n",
              "    .colab-df-convert {\n",
              "      background-color: #E8F0FE;\n",
              "      border: none;\n",
              "      border-radius: 50%;\n",
              "      cursor: pointer;\n",
              "      display: none;\n",
              "      fill: #1967D2;\n",
              "      height: 32px;\n",
              "      padding: 0 0 0 0;\n",
              "      width: 32px;\n",
              "    }\n",
              "\n",
              "    .colab-df-convert:hover {\n",
              "      background-color: #E2EBFA;\n",
              "      box-shadow: 0px 1px 2px rgba(60, 64, 67, 0.3), 0px 1px 3px 1px rgba(60, 64, 67, 0.15);\n",
              "      fill: #174EA6;\n",
              "    }\n",
              "\n",
              "    [theme=dark] .colab-df-convert {\n",
              "      background-color: #3B4455;\n",
              "      fill: #D2E3FC;\n",
              "    }\n",
              "\n",
              "    [theme=dark] .colab-df-convert:hover {\n",
              "      background-color: #434B5C;\n",
              "      box-shadow: 0px 1px 3px 1px rgba(0, 0, 0, 0.15);\n",
              "      filter: drop-shadow(0px 1px 2px rgba(0, 0, 0, 0.3));\n",
              "      fill: #FFFFFF;\n",
              "    }\n",
              "  </style>\n",
              "\n",
              "      <script>\n",
              "        const buttonEl =\n",
              "          document.querySelector('#df-12dbf366-d753-42c3-85c1-58d5a5466aa3 button.colab-df-convert');\n",
              "        buttonEl.style.display =\n",
              "          google.colab.kernel.accessAllowed ? 'block' : 'none';\n",
              "\n",
              "        async function convertToInteractive(key) {\n",
              "          const element = document.querySelector('#df-12dbf366-d753-42c3-85c1-58d5a5466aa3');\n",
              "          const dataTable =\n",
              "            await google.colab.kernel.invokeFunction('convertToInteractive',\n",
              "                                                     [key], {});\n",
              "          if (!dataTable) return;\n",
              "\n",
              "          const docLinkHtml = 'Like what you see? Visit the ' +\n",
              "            '<a target=\"_blank\" href=https://colab.research.google.com/notebooks/data_table.ipynb>data table notebook</a>'\n",
              "            + ' to learn more about interactive tables.';\n",
              "          element.innerHTML = '';\n",
              "          dataTable['output_type'] = 'display_data';\n",
              "          await google.colab.output.renderOutput(dataTable, element);\n",
              "          const docLink = document.createElement('div');\n",
              "          docLink.innerHTML = docLinkHtml;\n",
              "          element.appendChild(docLink);\n",
              "        }\n",
              "      </script>\n",
              "    </div>\n",
              "  </div>\n",
              "  "
            ]
          },
          "metadata": {},
          "execution_count": 104
        }
      ]
    },
    {
      "cell_type": "markdown",
      "source": [
        "### Getting the value of alpha, gamma,\tand epsilon to get the smallest average timesteps per episode."
      ],
      "metadata": {
        "id": "6vn4OPSQYnPe"
      }
    },
    {
      "cell_type": "code",
      "source": [
        "#df['Average timesteps per episode'].min()\n",
        "pd.DataFrame(df.min(axis = 0))"
      ],
      "metadata": {
        "colab": {
          "base_uri": "https://localhost:8080/",
          "height": 175
        },
        "id": "AZhiWTvrvpKu",
        "outputId": "f86b795d-e5aa-411d-eafa-b31fb9618eb8"
      },
      "execution_count": null,
      "outputs": [
        {
          "output_type": "execute_result",
          "data": {
            "text/plain": [
              "                                   0\n",
              "Alpha                           0.10\n",
              "Gamma                           0.30\n",
              "epsilon                         0.10\n",
              "Average timesteps per episode  12.26"
            ],
            "text/html": [
              "\n",
              "  <div id=\"df-cfe5a273-39e5-4217-909e-ad6fb5a7e442\">\n",
              "    <div class=\"colab-df-container\">\n",
              "      <div>\n",
              "<style scoped>\n",
              "    .dataframe tbody tr th:only-of-type {\n",
              "        vertical-align: middle;\n",
              "    }\n",
              "\n",
              "    .dataframe tbody tr th {\n",
              "        vertical-align: top;\n",
              "    }\n",
              "\n",
              "    .dataframe thead th {\n",
              "        text-align: right;\n",
              "    }\n",
              "</style>\n",
              "<table border=\"1\" class=\"dataframe\">\n",
              "  <thead>\n",
              "    <tr style=\"text-align: right;\">\n",
              "      <th></th>\n",
              "      <th>0</th>\n",
              "    </tr>\n",
              "  </thead>\n",
              "  <tbody>\n",
              "    <tr>\n",
              "      <th>Alpha</th>\n",
              "      <td>0.10</td>\n",
              "    </tr>\n",
              "    <tr>\n",
              "      <th>Gamma</th>\n",
              "      <td>0.30</td>\n",
              "    </tr>\n",
              "    <tr>\n",
              "      <th>epsilon</th>\n",
              "      <td>0.10</td>\n",
              "    </tr>\n",
              "    <tr>\n",
              "      <th>Average timesteps per episode</th>\n",
              "      <td>12.26</td>\n",
              "    </tr>\n",
              "  </tbody>\n",
              "</table>\n",
              "</div>\n",
              "      <button class=\"colab-df-convert\" onclick=\"convertToInteractive('df-cfe5a273-39e5-4217-909e-ad6fb5a7e442')\"\n",
              "              title=\"Convert this dataframe to an interactive table.\"\n",
              "              style=\"display:none;\">\n",
              "        \n",
              "  <svg xmlns=\"http://www.w3.org/2000/svg\" height=\"24px\"viewBox=\"0 0 24 24\"\n",
              "       width=\"24px\">\n",
              "    <path d=\"M0 0h24v24H0V0z\" fill=\"none\"/>\n",
              "    <path d=\"M18.56 5.44l.94 2.06.94-2.06 2.06-.94-2.06-.94-.94-2.06-.94 2.06-2.06.94zm-11 1L8.5 8.5l.94-2.06 2.06-.94-2.06-.94L8.5 2.5l-.94 2.06-2.06.94zm10 10l.94 2.06.94-2.06 2.06-.94-2.06-.94-.94-2.06-.94 2.06-2.06.94z\"/><path d=\"M17.41 7.96l-1.37-1.37c-.4-.4-.92-.59-1.43-.59-.52 0-1.04.2-1.43.59L10.3 9.45l-7.72 7.72c-.78.78-.78 2.05 0 2.83L4 21.41c.39.39.9.59 1.41.59.51 0 1.02-.2 1.41-.59l7.78-7.78 2.81-2.81c.8-.78.8-2.07 0-2.86zM5.41 20L4 18.59l7.72-7.72 1.47 1.35L5.41 20z\"/>\n",
              "  </svg>\n",
              "      </button>\n",
              "      \n",
              "  <style>\n",
              "    .colab-df-container {\n",
              "      display:flex;\n",
              "      flex-wrap:wrap;\n",
              "      gap: 12px;\n",
              "    }\n",
              "\n",
              "    .colab-df-convert {\n",
              "      background-color: #E8F0FE;\n",
              "      border: none;\n",
              "      border-radius: 50%;\n",
              "      cursor: pointer;\n",
              "      display: none;\n",
              "      fill: #1967D2;\n",
              "      height: 32px;\n",
              "      padding: 0 0 0 0;\n",
              "      width: 32px;\n",
              "    }\n",
              "\n",
              "    .colab-df-convert:hover {\n",
              "      background-color: #E2EBFA;\n",
              "      box-shadow: 0px 1px 2px rgba(60, 64, 67, 0.3), 0px 1px 3px 1px rgba(60, 64, 67, 0.15);\n",
              "      fill: #174EA6;\n",
              "    }\n",
              "\n",
              "    [theme=dark] .colab-df-convert {\n",
              "      background-color: #3B4455;\n",
              "      fill: #D2E3FC;\n",
              "    }\n",
              "\n",
              "    [theme=dark] .colab-df-convert:hover {\n",
              "      background-color: #434B5C;\n",
              "      box-shadow: 0px 1px 3px 1px rgba(0, 0, 0, 0.15);\n",
              "      filter: drop-shadow(0px 1px 2px rgba(0, 0, 0, 0.3));\n",
              "      fill: #FFFFFF;\n",
              "    }\n",
              "  </style>\n",
              "\n",
              "      <script>\n",
              "        const buttonEl =\n",
              "          document.querySelector('#df-cfe5a273-39e5-4217-909e-ad6fb5a7e442 button.colab-df-convert');\n",
              "        buttonEl.style.display =\n",
              "          google.colab.kernel.accessAllowed ? 'block' : 'none';\n",
              "\n",
              "        async function convertToInteractive(key) {\n",
              "          const element = document.querySelector('#df-cfe5a273-39e5-4217-909e-ad6fb5a7e442');\n",
              "          const dataTable =\n",
              "            await google.colab.kernel.invokeFunction('convertToInteractive',\n",
              "                                                     [key], {});\n",
              "          if (!dataTable) return;\n",
              "\n",
              "          const docLinkHtml = 'Like what you see? Visit the ' +\n",
              "            '<a target=\"_blank\" href=https://colab.research.google.com/notebooks/data_table.ipynb>data table notebook</a>'\n",
              "            + ' to learn more about interactive tables.';\n",
              "          element.innerHTML = '';\n",
              "          dataTable['output_type'] = 'display_data';\n",
              "          await google.colab.output.renderOutput(dataTable, element);\n",
              "          const docLink = document.createElement('div');\n",
              "          docLink.innerHTML = docLinkHtml;\n",
              "          element.appendChild(docLink);\n",
              "        }\n",
              "      </script>\n",
              "    </div>\n",
              "  </div>\n",
              "  "
            ]
          },
          "metadata": {},
          "execution_count": 116
        }
      ]
    }
  ]
}